{
  "nbformat": 4,
  "nbformat_minor": 0,
  "metadata": {
    "colab": {
      "name": "Clustering_Hour",
      "provenance": [],
      "machine_shape": "hm",
      "authorship_tag": "ABX9TyNtrT2w1Vm1tzwpXaTsJ4to",
      "include_colab_link": true
    },
    "kernelspec": {
      "name": "python3",
      "display_name": "Python 3"
    },
    "accelerator": "GPU"
  },
  "cells": [
    {
      "cell_type": "markdown",
      "metadata": {
        "id": "view-in-github",
        "colab_type": "text"
      },
      "source": [
        "<a href=\"https://colab.research.google.com/github/adityapvarma/twitter_sentiment/blob/master/Clustering_Hour.ipynb\" target=\"_parent\"><img src=\"https://colab.research.google.com/assets/colab-badge.svg\" alt=\"Open In Colab\"/></a>"
      ]
    },
    {
      "cell_type": "code",
      "metadata": {
        "id": "hnOVfZ1mgvi7",
        "colab_type": "code",
        "colab": {
          "base_uri": "https://localhost:8080/",
          "height": 85
        },
        "outputId": "e42c6760-d1d0-465f-d6cd-22db4816e0eb"
      },
      "source": [
        "!pip install scikit-learn"
      ],
      "execution_count": 1,
      "outputs": [
        {
          "output_type": "stream",
          "text": [
            "Requirement already satisfied: scikit-learn in /usr/local/lib/python3.6/dist-packages (0.22.1)\n",
            "Requirement already satisfied: numpy>=1.11.0 in /usr/local/lib/python3.6/dist-packages (from scikit-learn) (1.17.5)\n",
            "Requirement already satisfied: scipy>=0.17.0 in /usr/local/lib/python3.6/dist-packages (from scikit-learn) (1.4.1)\n",
            "Requirement already satisfied: joblib>=0.11 in /usr/local/lib/python3.6/dist-packages (from scikit-learn) (0.14.1)\n"
          ],
          "name": "stdout"
        }
      ]
    },
    {
      "cell_type": "code",
      "metadata": {
        "id": "l4Gc9fY1ldUA",
        "colab_type": "code",
        "colab": {
          "base_uri": "https://localhost:8080/",
          "height": 54
        },
        "outputId": "9cb5776c-04c3-4231-aba7-18aacb1b41da"
      },
      "source": [
        "from google.colab import drive\n",
        "drive.mount('/content/gdrive')"
      ],
      "execution_count": 2,
      "outputs": [
        {
          "output_type": "stream",
          "text": [
            "Drive already mounted at /content/gdrive; to attempt to forcibly remount, call drive.mount(\"/content/gdrive\", force_remount=True).\n"
          ],
          "name": "stdout"
        }
      ]
    },
    {
      "cell_type": "code",
      "metadata": {
        "id": "DNJ_6o9bhPXv",
        "colab_type": "code",
        "colab": {}
      },
      "source": [
        "from sklearn.feature_extraction.text import TfidfVectorizer\n",
        "from pickle import load,dump    "
      ],
      "execution_count": 0,
      "outputs": []
    },
    {
      "cell_type": "code",
      "metadata": {
        "id": "Re7mZyyqlZCB",
        "colab_type": "code",
        "colab": {
          "base_uri": "https://localhost:8080/",
          "height": 139
        },
        "outputId": "d642425b-c943-4f43-ac39-3efa97287c39"
      },
      "source": [
        "f=open(\"/content/gdrive/My Drive/Colab Notebooks/Hourly_Slots.pickle\",\"rb\")\n",
        "d_h=load(f)\n",
        "f.close()\n",
        "\n",
        "d_h[20][0]"
      ],
      "execution_count": 4,
      "outputs": [
        {
          "output_type": "execute_result",
          "data": {
            "text/plain": [
              "(1224071758342434817,\n",
              " 996931530399387648,\n",
              " \"lol despite ALL this homemade BBQ I'm gonna have tonight watching the #SuperBowl and breaking my fast, I'm still gonna make sure there's room for some sardines and spinach #cantgetenough\",\n",
              " datetime.datetime(2020, 2, 2, 20, 47, 3),\n",
              " \"lol despit homemad bbq i'm gonna tonight watch #superbowl break fast , i'm still gonna make sure there room sardin spinach #cantgetenough \",\n",
              " \"lol despit homemad bbq i'm gonna tonight watch #superbowl break fast , i'm still gonna make sure there' room sardin spinach #cantgetenough \")"
            ]
          },
          "metadata": {
            "tags": []
          },
          "execution_count": 4
        }
      ]
    },
    {
      "cell_type": "code",
      "metadata": {
        "id": "7Q-U7GEtrVQl",
        "colab_type": "code",
        "colab": {
          "base_uri": "https://localhost:8080/",
          "height": 34
        },
        "outputId": "373c8e2e-e93c-4038-bc0a-be18401b42cb"
      },
      "source": [
        "d_h[20][0][3].minute//6"
      ],
      "execution_count": 5,
      "outputs": [
        {
          "output_type": "execute_result",
          "data": {
            "text/plain": [
              "7"
            ]
          },
          "metadata": {
            "tags": []
          },
          "execution_count": 5
        }
      ]
    },
    {
      "cell_type": "code",
      "metadata": {
        "id": "ksCdmzUDr38j",
        "colab_type": "code",
        "colab": {}
      },
      "source": [
        "mod={}\n",
        "\n",
        "for i in d_h:\n",
        "\n",
        "    temp={}\n",
        "    for j in d_h[i]:\n",
        "        if j[3].minute//6 not in temp:\n",
        "            temp[j[3].minute//6]=[j]\n",
        "        else:\n",
        "            temp[j[3].minute//6].append(j)\n",
        "    mod[i]=temp\n"
      ],
      "execution_count": 0,
      "outputs": []
    },
    {
      "cell_type": "code",
      "metadata": {
        "id": "rKh9r68EsmU9",
        "colab_type": "code",
        "colab": {
          "base_uri": "https://localhost:8080/",
          "height": 51
        },
        "outputId": "2e1f8dfd-1ced-4067-ebc4-46c55e4558bf"
      },
      "source": [
        "print(mod[3].keys())\n",
        "mxc=0\n",
        "for i in mod[3]:\n",
        "    if len(mod[3][i])>mxc:\n",
        "        mxc=len(mod[3][i])\n",
        "mxc"
      ],
      "execution_count": 7,
      "outputs": [
        {
          "output_type": "stream",
          "text": [
            "dict_keys([0, 1, 2, 3, 4, 5, 6, 7, 8, 9])\n"
          ],
          "name": "stdout"
        },
        {
          "output_type": "execute_result",
          "data": {
            "text/plain": [
              "16861"
            ]
          },
          "metadata": {
            "tags": []
          },
          "execution_count": 7
        }
      ]
    },
    {
      "cell_type": "markdown",
      "metadata": {
        "id": "4C3MJnBsnPhs",
        "colab_type": "text"
      },
      "source": [
        "Hourly slots consists of tweet data segregated according to the hour in which it was posted. \n",
        "The format is **`Hour of post:List of tweets`**\n",
        "\n",
        "Each list entry : tweet_id,user_id,tweet_text,tweet_created_at,snowball,porter"
      ]
    },
    {
      "cell_type": "code",
      "metadata": {
        "id": "WGvXOZxUl2mm",
        "colab_type": "code",
        "colab": {
          "base_uri": "https://localhost:8080/",
          "height": 34
        },
        "outputId": "bc7fd0f1-1f1e-448e-aed0-90e252d75fa9"
      },
      "source": [
        "\"\"\"\n",
        "print(d_h.keys())\n",
        "len(d_h[20])\n",
        "print(d_h[20][0])\n",
        "\n",
        "\"\"\""
      ],
      "execution_count": 8,
      "outputs": [
        {
          "output_type": "execute_result",
          "data": {
            "text/plain": [
              "'\\nprint(d_h.keys())\\nlen(d_h[20])\\nprint(d_h[20][0])\\n\\n'"
            ]
          },
          "metadata": {
            "tags": []
          },
          "execution_count": 8
        }
      ]
    },
    {
      "cell_type": "markdown",
      "metadata": {
        "colab_type": "text",
        "id": "7xIzODuCxDib"
      },
      "source": [
        "Trying only N-Gram collection, TF-IDF Matrix and Cosine Similarity for Snowball entries."
      ]
    },
    {
      "cell_type": "code",
      "metadata": {
        "id": "0iZxceGcxSS2",
        "colab_type": "code",
        "colab": {}
      },
      "source": [
        "\n",
        "from sklearn.feature_extraction.text import TfidfVectorizer\n"
      ],
      "execution_count": 0,
      "outputs": []
    },
    {
      "cell_type": "code",
      "metadata": {
        "id": "olyf1FbN6jkG",
        "colab_type": "code",
        "colab": {
          "base_uri": "https://localhost:8080/",
          "height": 34
        },
        "outputId": "07b954cb-40c6-4096-cda1-2567efacaad0"
      },
      "source": [
        "\"\"\"\n",
        "lmax=[]\n",
        "for i in d_h:\n",
        "    lmax.append([len(d_h[i]),i])\n",
        "\n",
        "\"\"\""
      ],
      "execution_count": 10,
      "outputs": [
        {
          "output_type": "execute_result",
          "data": {
            "text/plain": [
              "'\\nlmax=[]\\nfor i in d_h:\\n    lmax.append([len(d_h[i]),i])\\n\\n'"
            ]
          },
          "metadata": {
            "tags": []
          },
          "execution_count": 10
        }
      ]
    },
    {
      "cell_type": "code",
      "metadata": {
        "id": "RTXZHHMf62eF",
        "colab_type": "code",
        "colab": {
          "base_uri": "https://localhost:8080/",
          "height": 34
        },
        "outputId": "23a8b246-6a5e-42f8-c0fe-183c3f33c69f"
      },
      "source": [
        "\"\"\"\n",
        "lmax.sort(reverse=True)\n",
        "lmax\n",
        "\"\"\""
      ],
      "execution_count": 11,
      "outputs": [
        {
          "output_type": "execute_result",
          "data": {
            "text/plain": [
              "'\\nlmax.sort(reverse=True)\\nlmax\\n'"
            ]
          },
          "metadata": {
            "tags": []
          },
          "execution_count": 11
        }
      ]
    },
    {
      "cell_type": "code",
      "metadata": {
        "colab_type": "code",
        "id": "qHCy2YS-xCDz",
        "colab": {}
      },
      "source": [
        "\n",
        "####################################################\n",
        "#Snowball Section#\n",
        "###################################################\n",
        "\"\"\"\n",
        "s_vec=TfidfVectorizer(ngram_range=(2,3),min_df=5,max_df=0.3)\n",
        "s_dct={}\n",
        "s_corp={}\n",
        "\n",
        "\n",
        "\n",
        "test=s_vec.fit_transform([j[-2] for j in d_h[3][::10]])\n",
        "\n",
        "\"\"\"\n",
        "\n"
      ],
      "execution_count": 0,
      "outputs": []
    },
    {
      "cell_type": "code",
      "metadata": {
        "id": "zj1d56TcyXYd",
        "colab_type": "code",
        "colab": {}
      },
      "source": [
        "\n",
        "#test=test.toarray()\n"
      ],
      "execution_count": 0,
      "outputs": []
    },
    {
      "cell_type": "code",
      "metadata": {
        "id": "X4F8IxP_0nAX",
        "colab_type": "code",
        "colab": {}
      },
      "source": [
        "#vocab=s_vec.get_feature_names()"
      ],
      "execution_count": 0,
      "outputs": []
    },
    {
      "cell_type": "code",
      "metadata": {
        "id": "AH9hVoL60vUc",
        "colab_type": "code",
        "colab": {
          "base_uri": "https://localhost:8080/",
          "height": 51
        },
        "outputId": "7ecf9a9e-ab44-49fa-c879-aa6fc8d25d24"
      },
      "source": [
        "\"\"\"\n",
        "print(len(s_vec.get_feature_names()))\n",
        "print(len([j[-2] for j in d_h[3][::10]]))\n",
        "\n",
        "\"\"\""
      ],
      "execution_count": 17,
      "outputs": [
        {
          "output_type": "stream",
          "text": [
            "10221\n",
            "16764\n"
          ],
          "name": "stdout"
        }
      ]
    },
    {
      "cell_type": "code",
      "metadata": {
        "id": "LXChyPvItfsl",
        "colab_type": "code",
        "colab": {
          "base_uri": "https://localhost:8080/",
          "height": 231
        },
        "outputId": "36eeaab9-4d89-48ef-9a4b-19aa67f26936"
      },
      "source": [
        "####################################################\n",
        "#Snowball Section   ##Using minute slots\n",
        "#Pickle details feature list and tfidf values\n",
        "#Cosine similarity can be caluclated later.\n",
        "###################################################\n",
        "\n",
        "from sklearn.feature_extraction.text import TfidfVectorizer\n",
        "from pickle import dump,load\n",
        "#ff=open(\"/content/gdrive/My Drive/Colab Notebooks/Post_TFIDF.pickle\",\"wb\")\n",
        "\n",
        "\n",
        "for hour in mod:\n",
        "    ff=open(\"/content/gdrive/My Drive/Colab Notebooks/TF_IDF/Res_\"+str(hour)+\".pickle\",\"wb\")\n",
        "    for mint in mod[hour]:\n",
        "        vec=TfidfVectorizer(ngram_range=(2,3),min_df=5,max_df=0.3)\n",
        "        vec_f=vec.fit_transform([j[-2] for j in mod[hour][mint]]).toarray()\n",
        "        tempd={}\n",
        "        tempd[mint]=[vec_f,vec.get_feature_names()]\n",
        "        dump(tempd,ff)\n",
        "        tempd={}\n",
        "    ff.close()\n",
        "\n",
        "        \n",
        "\n",
        "\n",
        "\n",
        "\n",
        "\n",
        "\n",
        "\n"
      ],
      "execution_count": 18,
      "outputs": [
        {
          "output_type": "error",
          "ename": "FileNotFoundError",
          "evalue": "ignored",
          "traceback": [
            "\u001b[0;31m---------------------------------------------------------------------------\u001b[0m",
            "\u001b[0;31mFileNotFoundError\u001b[0m                         Traceback (most recent call last)",
            "\u001b[0;32m<ipython-input-18-496b644045e3>\u001b[0m in \u001b[0;36m<module>\u001b[0;34m()\u001b[0m\n\u001b[1;32m     12\u001b[0m         \u001b[0mtempd\u001b[0m\u001b[0;34m=\u001b[0m\u001b[0;34m{\u001b[0m\u001b[0;34m}\u001b[0m\u001b[0;34m\u001b[0m\u001b[0;34m\u001b[0m\u001b[0m\n\u001b[1;32m     13\u001b[0m         \u001b[0mtempd\u001b[0m\u001b[0;34m[\u001b[0m\u001b[0mmint\u001b[0m\u001b[0;34m]\u001b[0m\u001b[0;34m=\u001b[0m\u001b[0;34m[\u001b[0m\u001b[0mvec_f\u001b[0m\u001b[0;34m,\u001b[0m\u001b[0mvec\u001b[0m\u001b[0;34m.\u001b[0m\u001b[0mget_feature_names\u001b[0m\u001b[0;34m(\u001b[0m\u001b[0;34m)\u001b[0m\u001b[0;34m]\u001b[0m\u001b[0;34m\u001b[0m\u001b[0;34m\u001b[0m\u001b[0m\n\u001b[0;32m---> 14\u001b[0;31m         \u001b[0mdump\u001b[0m\u001b[0;34m(\u001b[0m\u001b[0mtempd\u001b[0m\u001b[0;34m,\u001b[0m\u001b[0mff\u001b[0m\u001b[0;34m)\u001b[0m\u001b[0;34m\u001b[0m\u001b[0;34m\u001b[0m\u001b[0m\n\u001b[0m\u001b[1;32m     15\u001b[0m         \u001b[0mtempd\u001b[0m\u001b[0;34m=\u001b[0m\u001b[0;34m{\u001b[0m\u001b[0;34m}\u001b[0m\u001b[0;34m\u001b[0m\u001b[0;34m\u001b[0m\u001b[0m\n\u001b[1;32m     16\u001b[0m     \u001b[0mff\u001b[0m\u001b[0;34m.\u001b[0m\u001b[0mclose\u001b[0m\u001b[0;34m(\u001b[0m\u001b[0;34m)\u001b[0m\u001b[0;34m\u001b[0m\u001b[0;34m\u001b[0m\u001b[0m\n",
            "\u001b[0;31mFileNotFoundError\u001b[0m: [Errno 2] No such file or directory"
          ]
        }
      ]
    },
    {
      "cell_type": "code",
      "metadata": {
        "id": "duzBxSCm2f6n",
        "colab_type": "code",
        "colab": {}
      },
      "source": [
        ""
      ],
      "execution_count": 0,
      "outputs": []
    }
  ]
}